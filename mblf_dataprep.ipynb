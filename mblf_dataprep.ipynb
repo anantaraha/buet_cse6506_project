{
 "cells": [
  {
   "cell_type": "markdown",
   "id": "9262788b",
   "metadata": {
    "papermill": {
     "duration": 0.004254,
     "end_time": "2024-12-09T13:33:56.945971",
     "exception": false,
     "start_time": "2024-12-09T13:33:56.941717",
     "status": "completed"
    },
    "tags": []
   },
   "source": [
    "# **Mulberry Leaf: Data Preparation**\n",
    "### ***Dataset: Mulberry Leaf Dataset https://www.kaggle.com/datasets/nahiduzzaman13/mulberry-leaf-dataset***\n",
    "### *Downloading dataset, preprocessing, splitting into 5-folds, and augmentation for each train split.*"
   ]
  },
  {
   "cell_type": "code",
   "execution_count": 1,
   "id": "8f81e1f8",
   "metadata": {
    "execution": {
     "iopub.execute_input": "2024-12-09T13:33:56.955200Z",
     "iopub.status.busy": "2024-12-09T13:33:56.954133Z",
     "iopub.status.idle": "2024-12-09T13:34:13.528600Z",
     "shell.execute_reply": "2024-12-09T13:34:13.527451Z"
    },
    "papermill": {
     "duration": 16.58175,
     "end_time": "2024-12-09T13:34:13.531183",
     "exception": false,
     "start_time": "2024-12-09T13:33:56.949433",
     "status": "completed"
    },
    "tags": []
   },
   "outputs": [],
   "source": [
    "import pandas as pd\n",
    "import numpy as np\n",
    "import cv2 as cv\n",
    "import tensorflow as tf\n",
    "\n",
    "import shutil\n",
    "import requests\n",
    "import zipfile\n",
    "\n",
    "from os import path, listdir, makedirs, rename, unlink\n",
    "from  matplotlib import pyplot as plt\n",
    "from tqdm import tqdm\n",
    "from pathlib import Path\n",
    "from sklearn.model_selection import train_test_split, StratifiedKFold\n",
    "\n",
    "from tensorflow.keras.preprocessing import image\n"
   ]
  },
  {
   "cell_type": "code",
   "execution_count": 2,
   "id": "30312028",
   "metadata": {
    "execution": {
     "iopub.execute_input": "2024-12-09T13:34:13.540064Z",
     "iopub.status.busy": "2024-12-09T13:34:13.539382Z",
     "iopub.status.idle": "2024-12-09T13:34:13.560165Z",
     "shell.execute_reply": "2024-12-09T13:34:13.558582Z"
    },
    "papermill": {
     "duration": 0.028251,
     "end_time": "2024-12-09T13:34:13.563003",
     "exception": false,
     "start_time": "2024-12-09T13:34:13.534752",
     "status": "completed"
    },
    "tags": []
   },
   "outputs": [],
   "source": [
    "def gamma_correction(img, gamma=2.0):\n",
    "    \"\"\"\n",
    "    Applies gamma correction to darken bright areas of an RGB image.\n",
    "    A gamma value less than 1 darkens bright areas.\n",
    "\n",
    "    Parameters:\n",
    "    - img: Input RGB image (numpy array).\n",
    "    - gamma: Gamma value (less than 1 to darken bright areas).\n",
    "\n",
    "    Returns:\n",
    "    - Gamma-corrected RGB image.\n",
    "    \"\"\"\n",
    "    # Convert the image to float32 for precision and normalize it to [0, 1]\n",
    "    img_normalized = np.float32(img) / 255.0\n",
    "    \n",
    "    # Apply gamma correction to each channel separately\n",
    "    img_corrected = np.power(img_normalized, gamma)\n",
    "    \n",
    "    # Scale back to [0, 255] and convert to uint8\n",
    "    img_corrected = np.uint8(np.clip(img_corrected * 255, 0, 255))\n",
    "    \n",
    "    return img_corrected\n",
    "\n",
    "def singleScaleRetinex(img, sigma):\n",
    "    \"\"\"\n",
    "    Apply Single-Scale Retinex.\n",
    "    \"\"\"\n",
    "    return np.log10(img + 1) - np.log10(cv.GaussianBlur(img, (0, 0), sigma) + 1)\n",
    "\n",
    "def multiScaleRetinex(img, sigma_list):\n",
    "    \"\"\"\n",
    "    Apply Multi-Scale Retinex.\n",
    "    \"\"\"\n",
    "    retinex = np.zeros_like(img, dtype=np.float64)\n",
    "    for sigma in sigma_list:\n",
    "        retinex += singleScaleRetinex(img, sigma)\n",
    "    return retinex / len(sigma_list)\n",
    "\n",
    "def colorRestoration(img, alpha):\n",
    "    \"\"\"\n",
    "    Apply Color Restoration (simplified).\n",
    "    \"\"\"\n",
    "    img_sum = np.sum(img, axis=2, keepdims=True) + 1e-6  # Avoid division by zero\n",
    "    return np.log10(alpha * img + 1) - np.log10(img_sum)\n",
    "\n",
    "def simplestColorBalance(img, low_clip, high_clip):\n",
    "    \"\"\"\n",
    "    Perform Simplest Color Balance.\n",
    "    \"\"\"\n",
    "    total = img.shape[0] * img.shape[1]\n",
    "    for i in range(img.shape[2]):\n",
    "        unique, counts = np.unique(img[:, :, i], return_counts=True)\n",
    "        current = 0\n",
    "        for u, c in zip(unique, counts):\n",
    "            if float(current) / total < low_clip:\n",
    "                low_val = u\n",
    "            if float(current) / total < high_clip:\n",
    "                high_val = u\n",
    "            current += c\n",
    "        img[:, :, i] = np.clip(img[:, :, i], low_val, high_val)\n",
    "    return img\n",
    "\n",
    "def MSRCR(img, sigma_list=[15, 80, 250], G=1.0, alpha=25.0, low_clip=0.00001, high_clip=0.99999):\n",
    "    \"\"\"\n",
    "    Multi-Scale Retinex with Color Restoration (MSRCR).\n",
    "\n",
    "    Parameters:\n",
    "        - img: Input image (uint8).\n",
    "        - sigma_list: List of sigma values for Retinex scales.\n",
    "        - G: Gain factor.\n",
    "        - alpha: Scaling factor for color restoration.\n",
    "        - low_clip: Lower percentile for simplest color balance.\n",
    "        - high_clip: Upper percentile for simplest color balance.\n",
    "\n",
    "    Returns:\n",
    "        - Processed image (uint8).\n",
    "    \"\"\"\n",
    "    img = np.float64(img) + 1.0  # Convert to float for processing\n",
    "\n",
    "    # Apply Multi-Scale Retinex\n",
    "    img_retinex = multiScaleRetinex(img, sigma_list)\n",
    "\n",
    "    # Apply Color Restoration\n",
    "    img_color = colorRestoration(img, alpha)\n",
    "\n",
    "    # Combine Retinex and Color Restoration\n",
    "    img_msrcr = G * img_retinex * img_color\n",
    "\n",
    "    # Normalize each channel to [0, 255]\n",
    "    for i in range(img_msrcr.shape[2]):\n",
    "        img_msrcr[:, :, i] = (img_msrcr[:, :, i] - np.min(img_msrcr[:, :, i])) / \\\n",
    "                             (np.max(img_msrcr[:, :, i]) - np.min(img_msrcr[:, :, i])) * 255\n",
    "\n",
    "    # Clip to valid range and convert to uint8\n",
    "    img_msrcr = np.uint8(np.clip(img_msrcr, 0, 255))\n",
    "\n",
    "    # Apply Simplest Color Balance\n",
    "    img_msrcr = simplestColorBalance(img_msrcr, low_clip, high_clip)\n",
    "\n",
    "    return img_msrcr\n"
   ]
  },
  {
   "cell_type": "code",
   "execution_count": 3,
   "id": "8ad5e1a5",
   "metadata": {
    "execution": {
     "iopub.execute_input": "2024-12-09T13:34:13.575843Z",
     "iopub.status.busy": "2024-12-09T13:34:13.575436Z",
     "iopub.status.idle": "2024-12-09T13:34:13.605671Z",
     "shell.execute_reply": "2024-12-09T13:34:13.604334Z"
    },
    "papermill": {
     "duration": 0.041932,
     "end_time": "2024-12-09T13:34:13.609209",
     "exception": false,
     "start_time": "2024-12-09T13:34:13.567277",
     "status": "completed"
    },
    "tags": []
   },
   "outputs": [],
   "source": [
    "plt.rcParams['font.family'] = 'serif'            # Use a specific font\n",
    "plt.rcParams['font.size'] = 14                   # Set a general font size\n",
    "\n",
    "def imshow(imgs, titles=None, color='gray'):\n",
    "    '''Utility class for showing images.'''\n",
    "    r, c = 4, 4\n",
    "    # show all images\n",
    "    plt.figure(figsize=(15, 12))\n",
    "    for idx in range(1, min(r*c, len(imgs))+1):\n",
    "        plt.subplot(r, c, idx)\n",
    "        plt.axis('off')\n",
    "        if titles != None and idx-1 < len(titles):\n",
    "            plt.title(titles[idx-1])\n",
    "        plt.imshow(imgs[idx-1], cmap=color)    \n",
    "    plt.show()\n",
    "\n",
    "def preprocess_and_save(df_info, to_dir=None, to_msr_dir=None):\n",
    "    '''Resize & save imgs into given directory; using label information.\n",
    "    '''\n",
    "    img_count = len(df_info)\n",
    "    print(f'Found {img_count} image(s) in dataframe.')\n",
    "    \n",
    "    with tqdm(total=img_count) as pbar:\n",
    "        for _, row in df_info.iterrows():\n",
    "            img_path, label = row['path'], row['label']\n",
    "            pbar.set_postfix({\"Processing\": path.basename(img_path)})\n",
    "            img = np.array(cv.cvtColor(cv.imread(img_path, cv.IMREAD_COLOR), cv.COLOR_BGR2RGB), dtype=np.uint8)\n",
    "            \n",
    "            # Resize image to INPUT_SIZE\n",
    "            rsz_img = tf.image.resize(img, (IMG_SIZE, IMG_SIZE))\n",
    "            \n",
    "            # Save each patch using tf.keras.utils.save_img\n",
    "            if to_dir:\n",
    "                makedirs(path.join(to_dir, label), exist_ok=True)\n",
    "                tf.keras.utils.save_img(path.join(to_dir, label, path.basename(img_path)), rsz_img)\n",
    "            if to_msr_dir:\n",
    "                msr_img = MSRCR(rsz_img, sigma_list=[12, 48, 144], G=1.5, alpha=150)\n",
    "                msr_img = gamma_correction(msr_img, gamma=2.0)\n",
    "                makedirs(path.join(to_msr_dir, label), exist_ok=True)\n",
    "                tf.keras.utils.save_img(path.join(to_msr_dir, label, path.basename(img_path)), msr_img)\n",
    "                \n",
    "            pbar.update(1)\n",
    "            pass\n",
    "\n",
    "        if to_dir:\n",
    "            print(f'Saved {img_count} image(s) into: {to_dir}')\n",
    "        if to_msr_dir:\n",
    "            print(f'Saved {img_count} image(s) into: {to_msr_dir}')\n",
    "\n",
    "def random_transformations(image):\n",
    "    # Rotate the image randomly by 0, 90, 180, or 270 degrees\n",
    "    rotated_image = tf.image.rot90(image, k=np.random.choice([0, 1, 2, 3]))\n",
    "    # Adjust brightness randomly\n",
    "    bright_image = tf.image.random_brightness(rotated_image, max_delta=0.1)\n",
    "    # Flip randomly\n",
    "    flipped_image = tf.image.random_flip_left_right(bright_image)\n",
    "    return flipped_image\n",
    "\n",
    "def augment_images(cls_names, _train_dir, _AUG_IMG_COUNT=[4000, 4000]):\n",
    "    _total_count = 0\n",
    "    for idx, cls_name in enumerate(cls_names):\n",
    "        # Define paths\n",
    "        _target_train_dir = path.join(ROOT_OUTPUT_DIR, 'aug')\n",
    "        _augmented_train_dir = path.join(_train_dir, cls_name)\n",
    "\n",
    "        # Making subdirectory for classing\n",
    "        _target_train_subdir = path.join(_target_train_dir, cls_name)\n",
    "\n",
    "        shutil.rmtree(_target_train_dir, ignore_errors=True)\n",
    "\n",
    "        # Make a copy of the original images to the target folder\n",
    "        shutil.copytree(_augmented_train_dir, _target_train_subdir)\n",
    "\n",
    "        # Define ImageDataGenerator for augmentation\n",
    "        _datagen = image.ImageDataGenerator(\n",
    "            preprocessing_function=random_transformations\n",
    "        )\n",
    "\n",
    "        # Flow images from the target directory, apply augmentation, and save to augmented directory\n",
    "        _batch_size = 8\n",
    "        _aug_gen = _datagen.flow_from_directory(\n",
    "            _target_train_dir,\n",
    "            target_size=(IMG_SIZE, IMG_SIZE),\n",
    "            batch_size=_batch_size,\n",
    "            color_mode='rgb', \n",
    "            class_mode='categorical',\n",
    "            save_to_dir=_augmented_train_dir,\n",
    "            save_prefix='augmented_',\n",
    "            save_format='png'\n",
    "        )\n",
    "\n",
    "        # creating N augmented images per class\n",
    "        _initial_img_count = len(listdir(_augmented_train_dir))\n",
    "        _img_count = 0\n",
    "        with tqdm(total=_AUG_IMG_COUNT[idx]) as bar:\n",
    "            while True:\n",
    "                next(_aug_gen)\n",
    "                _img_count = len(listdir(_augmented_train_dir)) - _initial_img_count\n",
    "                if _img_count >= _AUG_IMG_COUNT[idx]:\n",
    "                    bar.update(_AUG_IMG_COUNT[idx] - bar.n)\n",
    "                    break\n",
    "                bar.update(_img_count - bar.n)\n",
    "\n",
    "        _total_count = _total_count + _img_count\n",
    "        print(f'Saved {_img_count} image(s) into: {_augmented_train_dir}')\n",
    "        shutil.rmtree(_target_train_dir)\n",
    "    \n",
    "    print(f'Augmentation complete. Generated total {_total_count} image(s).')\n"
   ]
  },
  {
   "cell_type": "markdown",
   "id": "d8a93d39",
   "metadata": {
    "papermill": {
     "duration": 0.006303,
     "end_time": "2024-12-09T13:34:13.619929",
     "exception": false,
     "start_time": "2024-12-09T13:34:13.613626",
     "status": "completed"
    },
    "tags": []
   },
   "source": [
    "# 1. Fetching Dataset"
   ]
  },
  {
   "cell_type": "code",
   "execution_count": 4,
   "id": "1dcb0c6d",
   "metadata": {
    "execution": {
     "iopub.execute_input": "2024-12-09T13:34:13.630230Z",
     "iopub.status.busy": "2024-12-09T13:34:13.629826Z",
     "iopub.status.idle": "2024-12-09T13:34:13.635995Z",
     "shell.execute_reply": "2024-12-09T13:34:13.634682Z"
    },
    "papermill": {
     "duration": 0.013232,
     "end_time": "2024-12-09T13:34:13.638311",
     "exception": false,
     "start_time": "2024-12-09T13:34:13.625079",
     "status": "completed"
    },
    "tags": []
   },
   "outputs": [],
   "source": [
    "ROOT_OUTPUT_DIR = '/kaggle/working/'\n",
    "ROOT_INPUT_DIR = '/kaggle/input/mulberry-leaf-dataset/Mulberry Data/'\n",
    "NEW_DATA_DIR = path.join(ROOT_OUTPUT_DIR, 'data')\n",
    "MSR_DATA_DIR = path.join(ROOT_OUTPUT_DIR, 'data_msr')\n",
    "\n",
    "IMG_SIZE = 224\n",
    "\n",
    "INPUT_SHAPE = (IMG_SIZE, IMG_SIZE, 3)\n",
    "\n",
    "DISPLAY_LABELS = ['Disease Free', 'Leaf Rust', 'Leaf Spot']"
   ]
  },
  {
   "cell_type": "code",
   "execution_count": 5,
   "id": "8092da83",
   "metadata": {
    "execution": {
     "iopub.execute_input": "2024-12-09T13:34:13.646939Z",
     "iopub.status.busy": "2024-12-09T13:34:13.646105Z",
     "iopub.status.idle": "2024-12-09T13:34:13.654355Z",
     "shell.execute_reply": "2024-12-09T13:34:13.653003Z"
    },
    "papermill": {
     "duration": 0.014858,
     "end_time": "2024-12-09T13:34:13.656535",
     "exception": false,
     "start_time": "2024-12-09T13:34:13.641677",
     "status": "completed"
    },
    "tags": []
   },
   "outputs": [
    {
     "name": "stdout",
     "output_type": "stream",
     "text": [
      "Directory emptied.\n"
     ]
    }
   ],
   "source": [
    "## Remove old generated files\n",
    "\n",
    "# Iterate over each item in the directory\n",
    "for filename in listdir(ROOT_OUTPUT_DIR):\n",
    "    file_path = path.join(ROOT_OUTPUT_DIR, filename)\n",
    "    try:\n",
    "        # Check if it is a file or directory and remove accordingly\n",
    "        if path.isfile(file_path) or path.islink(file_path):\n",
    "            unlink(file_path)  # Remove the file or link\n",
    "        elif path.isdir(file_path):\n",
    "            shutil.rmtree(file_path)  # Remove the directory\n",
    "    except Exception as e:\n",
    "        print(f'Failed to delete {file_path}. Reason: {e}')\n",
    "print(\"Directory emptied.\")\n"
   ]
  },
  {
   "cell_type": "markdown",
   "id": "9096db8d",
   "metadata": {
    "papermill": {
     "duration": 0.004267,
     "end_time": "2024-12-09T13:34:13.664330",
     "exception": false,
     "start_time": "2024-12-09T13:34:13.660063",
     "status": "completed"
    },
    "tags": []
   },
   "source": [
    "# 2. Organizing Data"
   ]
  },
  {
   "cell_type": "code",
   "execution_count": 6,
   "id": "1c6f8a35",
   "metadata": {
    "execution": {
     "iopub.execute_input": "2024-12-09T13:34:13.673598Z",
     "iopub.status.busy": "2024-12-09T13:34:13.672394Z",
     "iopub.status.idle": "2024-12-09T13:34:13.754772Z",
     "shell.execute_reply": "2024-12-09T13:34:13.753757Z"
    },
    "papermill": {
     "duration": 0.089301,
     "end_time": "2024-12-09T13:34:13.756983",
     "exception": false,
     "start_time": "2024-12-09T13:34:13.667682",
     "status": "completed"
    },
    "tags": []
   },
   "outputs": [
    {
     "data": {
      "text/html": [
       "<div>\n",
       "<style scoped>\n",
       "    .dataframe tbody tr th:only-of-type {\n",
       "        vertical-align: middle;\n",
       "    }\n",
       "\n",
       "    .dataframe tbody tr th {\n",
       "        vertical-align: top;\n",
       "    }\n",
       "\n",
       "    .dataframe thead th {\n",
       "        text-align: right;\n",
       "    }\n",
       "</style>\n",
       "<table border=\"1\" class=\"dataframe\">\n",
       "  <thead>\n",
       "    <tr style=\"text-align: right;\">\n",
       "      <th></th>\n",
       "      <th>path</th>\n",
       "      <th>label</th>\n",
       "    </tr>\n",
       "  </thead>\n",
       "  <tbody>\n",
       "    <tr>\n",
       "      <th>0</th>\n",
       "      <td>/kaggle/input/mulberry-leaf-dataset/Mulberry D...</td>\n",
       "      <td>Disease Free</td>\n",
       "    </tr>\n",
       "    <tr>\n",
       "      <th>1</th>\n",
       "      <td>/kaggle/input/mulberry-leaf-dataset/Mulberry D...</td>\n",
       "      <td>Disease Free</td>\n",
       "    </tr>\n",
       "    <tr>\n",
       "      <th>2</th>\n",
       "      <td>/kaggle/input/mulberry-leaf-dataset/Mulberry D...</td>\n",
       "      <td>Disease Free</td>\n",
       "    </tr>\n",
       "    <tr>\n",
       "      <th>3</th>\n",
       "      <td>/kaggle/input/mulberry-leaf-dataset/Mulberry D...</td>\n",
       "      <td>Disease Free</td>\n",
       "    </tr>\n",
       "    <tr>\n",
       "      <th>4</th>\n",
       "      <td>/kaggle/input/mulberry-leaf-dataset/Mulberry D...</td>\n",
       "      <td>Disease Free</td>\n",
       "    </tr>\n",
       "  </tbody>\n",
       "</table>\n",
       "</div>"
      ],
      "text/plain": [
       "                                                path         label\n",
       "0  /kaggle/input/mulberry-leaf-dataset/Mulberry D...  Disease Free\n",
       "1  /kaggle/input/mulberry-leaf-dataset/Mulberry D...  Disease Free\n",
       "2  /kaggle/input/mulberry-leaf-dataset/Mulberry D...  Disease Free\n",
       "3  /kaggle/input/mulberry-leaf-dataset/Mulberry D...  Disease Free\n",
       "4  /kaggle/input/mulberry-leaf-dataset/Mulberry D...  Disease Free"
      ]
     },
     "execution_count": 6,
     "metadata": {},
     "output_type": "execute_result"
    }
   ],
   "source": [
    "df_lst = []\n",
    "for cls_idx, dir_name in enumerate(listdir(ROOT_INPUT_DIR)):\n",
    "    img_paths = sorted([str(file_path) for file_path in Path(path.join(ROOT_INPUT_DIR, dir_name)).iterdir() if file_path.suffix in ['.jpg', '.png', '.JPG', '.PNG']])\n",
    "    label = DISPLAY_LABELS[cls_idx]\n",
    "    df_lst.append(pd.DataFrame({\"path\": img_paths, \"label\": label}))\n",
    "\n",
    "df = pd.concat(df_lst, ignore_index=True)\n",
    "df.head()"
   ]
  },
  {
   "cell_type": "code",
   "execution_count": 7,
   "id": "61fe8d8f",
   "metadata": {
    "execution": {
     "iopub.execute_input": "2024-12-09T13:34:13.765887Z",
     "iopub.status.busy": "2024-12-09T13:34:13.765513Z",
     "iopub.status.idle": "2024-12-09T13:34:13.778559Z",
     "shell.execute_reply": "2024-12-09T13:34:13.777520Z"
    },
    "papermill": {
     "duration": 0.020017,
     "end_time": "2024-12-09T13:34:13.780627",
     "exception": false,
     "start_time": "2024-12-09T13:34:13.760610",
     "status": "completed"
    },
    "tags": []
   },
   "outputs": [
    {
     "data": {
      "text/plain": [
       "label\n",
       "Leaf Rust       489\n",
       "Disease Free    440\n",
       "Leaf Spot       162\n",
       "Name: count, dtype: int64"
      ]
     },
     "execution_count": 7,
     "metadata": {},
     "output_type": "execute_result"
    }
   ],
   "source": [
    "df['label'].value_counts()"
   ]
  },
  {
   "cell_type": "code",
   "execution_count": 8,
   "id": "2dd46788",
   "metadata": {
    "execution": {
     "iopub.execute_input": "2024-12-09T13:34:13.790699Z",
     "iopub.status.busy": "2024-12-09T13:34:13.789669Z",
     "iopub.status.idle": "2024-12-09T13:34:13.802508Z",
     "shell.execute_reply": "2024-12-09T13:34:13.801358Z"
    },
    "papermill": {
     "duration": 0.019781,
     "end_time": "2024-12-09T13:34:13.804596",
     "exception": false,
     "start_time": "2024-12-09T13:34:13.784815",
     "status": "completed"
    },
    "tags": []
   },
   "outputs": [
    {
     "name": "stdout",
     "output_type": "stream",
     "text": [
      "Saved to directory: /kaggle/working/data/labels.csv\n"
     ]
    }
   ],
   "source": [
    "## Save dataframe to storage\n",
    "\n",
    "makedirs(NEW_DATA_DIR, exist_ok=True)\n",
    "df.to_csv(path.join(NEW_DATA_DIR, 'labels.csv'), index=False)\n",
    "print(f\"Saved to directory: {path.join(NEW_DATA_DIR, 'labels.csv')}\")\n"
   ]
  },
  {
   "cell_type": "markdown",
   "id": "f489d445",
   "metadata": {
    "papermill": {
     "duration": 0.003492,
     "end_time": "2024-12-09T13:34:13.811821",
     "exception": false,
     "start_time": "2024-12-09T13:34:13.808329",
     "status": "completed"
    },
    "tags": []
   },
   "source": [
    "# 3. Generating Folds"
   ]
  },
  {
   "cell_type": "code",
   "execution_count": 9,
   "id": "7bbef778",
   "metadata": {
    "execution": {
     "iopub.execute_input": "2024-12-09T13:34:13.821854Z",
     "iopub.status.busy": "2024-12-09T13:34:13.820915Z",
     "iopub.status.idle": "2024-12-09T15:34:21.964670Z",
     "shell.execute_reply": "2024-12-09T15:34:21.962387Z"
    },
    "papermill": {
     "duration": 7208.154705,
     "end_time": "2024-12-09T15:34:21.970614",
     "exception": false,
     "start_time": "2024-12-09T13:34:13.815909",
     "status": "completed"
    },
    "tags": []
   },
   "outputs": [
    {
     "name": "stdout",
     "output_type": "stream",
     "text": [
      "Fold #1:\n",
      "\n",
      "Train distribution:\n",
      "label\n",
      "Leaf Rust       391\n",
      "Disease Free    352\n",
      "Leaf Spot       129\n",
      "Name: count, dtype: int64\n",
      "\n",
      "Test distribution:\n",
      "label\n",
      "Leaf Rust       98\n",
      "Disease Free    88\n",
      "Leaf Spot       33\n",
      "Name: count, dtype: int64\n",
      "\n",
      "Saving train & test images...\n",
      "Found 872 image(s) in dataframe.\n"
     ]
    },
    {
     "name": "stderr",
     "output_type": "stream",
     "text": [
      "100%|██████████| 872/872 [14:21<00:00,  1.01it/s, Processing=s (9).JPG]\n"
     ]
    },
    {
     "name": "stdout",
     "output_type": "stream",
     "text": [
      "Saved 872 image(s) into: /kaggle/working/data/fold1/train\n",
      "Saved 872 image(s) into: /kaggle/working/data_msr/fold1/train\n",
      "Found 219 image(s) in dataframe.\n"
     ]
    },
    {
     "name": "stderr",
     "output_type": "stream",
     "text": [
      "100%|██████████| 219/219 [03:31<00:00,  1.04it/s, Processing=s (63).JPG]\n"
     ]
    },
    {
     "name": "stdout",
     "output_type": "stream",
     "text": [
      "Saved 219 image(s) into: /kaggle/working/data/fold1/test\n",
      "Saved 219 image(s) into: /kaggle/working/data_msr/fold1/test\n",
      "\n",
      "Augmentation of train images...\n",
      "Found 352 images belonging to 1 classes.\n"
     ]
    },
    {
     "name": "stderr",
     "output_type": "stream",
     "text": [
      "100%|██████████| 2148/2148 [00:52<00:00, 40.64it/s]\n"
     ]
    },
    {
     "name": "stdout",
     "output_type": "stream",
     "text": [
      "Saved 2152 image(s) into: /kaggle/working/data/fold1/train/Disease Free\n",
      "Found 391 images belonging to 1 classes.\n"
     ]
    },
    {
     "name": "stderr",
     "output_type": "stream",
     "text": [
      "100%|██████████| 2109/2109 [00:51<00:00, 40.83it/s]\n"
     ]
    },
    {
     "name": "stdout",
     "output_type": "stream",
     "text": [
      "Saved 2115 image(s) into: /kaggle/working/data/fold1/train/Leaf Rust\n",
      "Found 129 images belonging to 1 classes.\n"
     ]
    },
    {
     "name": "stderr",
     "output_type": "stream",
     "text": [
      "100%|██████████| 2371/2371 [00:52<00:00, 44.94it/s]\n"
     ]
    },
    {
     "name": "stdout",
     "output_type": "stream",
     "text": [
      "Saved 2378 image(s) into: /kaggle/working/data/fold1/train/Leaf Spot\n",
      "Augmentation complete. Generated total 6645 image(s).\n",
      "Augmentation of MSR train images...\n",
      "Found 352 images belonging to 1 classes.\n"
     ]
    },
    {
     "name": "stderr",
     "output_type": "stream",
     "text": [
      "100%|██████████| 2148/2148 [00:49<00:00, 43.45it/s]\n"
     ]
    },
    {
     "name": "stdout",
     "output_type": "stream",
     "text": [
      "Saved 2152 image(s) into: /kaggle/working/data_msr/fold1/train/Disease Free\n",
      "Found 391 images belonging to 1 classes.\n"
     ]
    },
    {
     "name": "stderr",
     "output_type": "stream",
     "text": [
      "100%|██████████| 2109/2109 [00:46<00:00, 45.81it/s]\n"
     ]
    },
    {
     "name": "stdout",
     "output_type": "stream",
     "text": [
      "Saved 2115 image(s) into: /kaggle/working/data_msr/fold1/train/Leaf Rust\n",
      "Found 129 images belonging to 1 classes.\n"
     ]
    },
    {
     "name": "stderr",
     "output_type": "stream",
     "text": [
      "100%|██████████| 2371/2371 [00:50<00:00, 46.80it/s]\n"
     ]
    },
    {
     "name": "stdout",
     "output_type": "stream",
     "text": [
      "Saved 2378 image(s) into: /kaggle/working/data_msr/fold1/train/Leaf Spot\n",
      "Augmentation complete. Generated total 6645 image(s).\n",
      "\n",
      "Archiving...\n",
      "Fold #2:\n",
      "\n",
      "Train distribution:\n",
      "label\n",
      "Leaf Rust       391\n",
      "Disease Free    352\n",
      "Leaf Spot       130\n",
      "Name: count, dtype: int64\n",
      "\n",
      "Test distribution:\n",
      "label\n",
      "Leaf Rust       98\n",
      "Disease Free    88\n",
      "Leaf Spot       32\n",
      "Name: count, dtype: int64\n",
      "\n",
      "Saving train & test images...\n",
      "Found 873 image(s) in dataframe.\n"
     ]
    },
    {
     "name": "stderr",
     "output_type": "stream",
     "text": [
      "100%|██████████| 873/873 [14:07<00:00,  1.03it/s, Processing=s (9).JPG]\n"
     ]
    },
    {
     "name": "stdout",
     "output_type": "stream",
     "text": [
      "Saved 873 image(s) into: /kaggle/working/data/fold2/train\n",
      "Saved 873 image(s) into: /kaggle/working/data_msr/fold2/train\n",
      "Found 218 image(s) in dataframe.\n"
     ]
    },
    {
     "name": "stderr",
     "output_type": "stream",
     "text": [
      "100%|██████████| 218/218 [03:45<00:00,  1.04s/it, Processing=s (59).JPG]"
     ]
    },
    {
     "name": "stdout",
     "output_type": "stream",
     "text": [
      "Saved 218 image(s) into: /kaggle/working/data/fold2/test\n",
      "Saved 218 image(s) into: /kaggle/working/data_msr/fold2/test\n",
      "\n",
      "Augmentation of train images...\n",
      "Found 352 images belonging to 1 classes.\n"
     ]
    },
    {
     "name": "stderr",
     "output_type": "stream",
     "text": [
      "\n",
      "100%|██████████| 2148/2148 [00:50<00:00, 42.20it/s]\n"
     ]
    },
    {
     "name": "stdout",
     "output_type": "stream",
     "text": [
      "Saved 2152 image(s) into: /kaggle/working/data/fold2/train/Disease Free\n",
      "Found 391 images belonging to 1 classes.\n"
     ]
    },
    {
     "name": "stderr",
     "output_type": "stream",
     "text": [
      "100%|██████████| 2109/2109 [00:50<00:00, 41.66it/s]\n"
     ]
    },
    {
     "name": "stdout",
     "output_type": "stream",
     "text": [
      "Saved 2115 image(s) into: /kaggle/working/data/fold2/train/Leaf Rust\n",
      "Found 130 images belonging to 1 classes.\n"
     ]
    },
    {
     "name": "stderr",
     "output_type": "stream",
     "text": [
      "100%|██████████| 2371/2371 [00:52<00:00, 45.15it/s]\n"
     ]
    },
    {
     "name": "stdout",
     "output_type": "stream",
     "text": [
      "Saved 2372 image(s) into: /kaggle/working/data/fold2/train/Leaf Spot\n",
      "Augmentation complete. Generated total 6639 image(s).\n",
      "Augmentation of MSR train images...\n",
      "Found 352 images belonging to 1 classes.\n"
     ]
    },
    {
     "name": "stderr",
     "output_type": "stream",
     "text": [
      "100%|██████████| 2148/2148 [00:49<00:00, 43.41it/s]\n"
     ]
    },
    {
     "name": "stdout",
     "output_type": "stream",
     "text": [
      "Saved 2152 image(s) into: /kaggle/working/data_msr/fold2/train/Disease Free\n",
      "Found 391 images belonging to 1 classes.\n"
     ]
    },
    {
     "name": "stderr",
     "output_type": "stream",
     "text": [
      "100%|██████████| 2109/2109 [00:46<00:00, 45.68it/s]"
     ]
    },
    {
     "name": "stdout",
     "output_type": "stream",
     "text": [
      "Saved 2115 image(s) into: /kaggle/working/data_msr/fold2/train/Leaf Rust\n",
      "Found 130 images belonging to 1 classes.\n"
     ]
    },
    {
     "name": "stderr",
     "output_type": "stream",
     "text": [
      "\n",
      "100%|██████████| 2371/2371 [00:50<00:00, 46.55it/s]\n"
     ]
    },
    {
     "name": "stdout",
     "output_type": "stream",
     "text": [
      "Saved 2372 image(s) into: /kaggle/working/data_msr/fold2/train/Leaf Spot\n",
      "Augmentation complete. Generated total 6639 image(s).\n",
      "\n",
      "Archiving...\n",
      "Fold #3:\n",
      "\n",
      "Train distribution:\n",
      "label\n",
      "Leaf Rust       391\n",
      "Disease Free    352\n",
      "Leaf Spot       130\n",
      "Name: count, dtype: int64\n",
      "\n",
      "Test distribution:\n",
      "label\n",
      "Leaf Rust       98\n",
      "Disease Free    88\n",
      "Leaf Spot       32\n",
      "Name: count, dtype: int64\n",
      "\n",
      "Saving train & test images...\n",
      "Found 873 image(s) in dataframe.\n"
     ]
    },
    {
     "name": "stderr",
     "output_type": "stream",
     "text": [
      "100%|██████████| 873/873 [14:11<00:00,  1.03it/s, Processing=s (8).JPG]\n"
     ]
    },
    {
     "name": "stdout",
     "output_type": "stream",
     "text": [
      "Saved 873 image(s) into: /kaggle/working/data/fold3/train\n",
      "Saved 873 image(s) into: /kaggle/working/data_msr/fold3/train\n",
      "Found 218 image(s) in dataframe.\n"
     ]
    },
    {
     "name": "stderr",
     "output_type": "stream",
     "text": [
      "100%|██████████| 218/218 [03:24<00:00,  1.07it/s, Processing=s (9).JPG]"
     ]
    },
    {
     "name": "stdout",
     "output_type": "stream",
     "text": [
      "Saved 218 image(s) into: /kaggle/working/data/fold3/test\n",
      "Saved 218 image(s) into: /kaggle/working/data_msr/fold3/test\n",
      "\n",
      "Augmentation of train images...\n",
      "Found 352 images belonging to 1 classes.\n"
     ]
    },
    {
     "name": "stderr",
     "output_type": "stream",
     "text": [
      "\n",
      "100%|██████████| 2148/2148 [00:51<00:00, 42.08it/s]\n"
     ]
    },
    {
     "name": "stdout",
     "output_type": "stream",
     "text": [
      "Saved 2152 image(s) into: /kaggle/working/data/fold3/train/Disease Free\n",
      "Found 391 images belonging to 1 classes.\n"
     ]
    },
    {
     "name": "stderr",
     "output_type": "stream",
     "text": [
      "100%|██████████| 2109/2109 [00:50<00:00, 42.06it/s]\n"
     ]
    },
    {
     "name": "stdout",
     "output_type": "stream",
     "text": [
      "Saved 2115 image(s) into: /kaggle/working/data/fold3/train/Leaf Rust\n",
      "Found 130 images belonging to 1 classes.\n"
     ]
    },
    {
     "name": "stderr",
     "output_type": "stream",
     "text": [
      "100%|██████████| 2371/2371 [00:53<00:00, 44.64it/s]\n"
     ]
    },
    {
     "name": "stdout",
     "output_type": "stream",
     "text": [
      "Saved 2372 image(s) into: /kaggle/working/data/fold3/train/Leaf Spot\n",
      "Augmentation complete. Generated total 6639 image(s).\n",
      "Augmentation of MSR train images...\n",
      "Found 352 images belonging to 1 classes.\n"
     ]
    },
    {
     "name": "stderr",
     "output_type": "stream",
     "text": [
      "100%|██████████| 2148/2148 [00:49<00:00, 43.24it/s]\n"
     ]
    },
    {
     "name": "stdout",
     "output_type": "stream",
     "text": [
      "Saved 2152 image(s) into: /kaggle/working/data_msr/fold3/train/Disease Free\n",
      "Found 391 images belonging to 1 classes.\n"
     ]
    },
    {
     "name": "stderr",
     "output_type": "stream",
     "text": [
      "100%|██████████| 2109/2109 [00:46<00:00, 45.55it/s]\n"
     ]
    },
    {
     "name": "stdout",
     "output_type": "stream",
     "text": [
      "Saved 2115 image(s) into: /kaggle/working/data_msr/fold3/train/Leaf Rust\n",
      "Found 130 images belonging to 1 classes.\n"
     ]
    },
    {
     "name": "stderr",
     "output_type": "stream",
     "text": [
      "100%|██████████| 2371/2371 [00:51<00:00, 46.38it/s]\n"
     ]
    },
    {
     "name": "stdout",
     "output_type": "stream",
     "text": [
      "Saved 2372 image(s) into: /kaggle/working/data_msr/fold3/train/Leaf Spot\n",
      "Augmentation complete. Generated total 6639 image(s).\n",
      "\n",
      "Archiving...\n",
      "Fold #4:\n",
      "\n",
      "Train distribution:\n",
      "label\n",
      "Leaf Rust       391\n",
      "Disease Free    352\n",
      "Leaf Spot       130\n",
      "Name: count, dtype: int64\n",
      "\n",
      "Test distribution:\n",
      "label\n",
      "Leaf Rust       98\n",
      "Disease Free    88\n",
      "Leaf Spot       32\n",
      "Name: count, dtype: int64\n",
      "\n",
      "Saving train & test images...\n",
      "Found 873 image(s) in dataframe.\n"
     ]
    },
    {
     "name": "stderr",
     "output_type": "stream",
     "text": [
      "100%|██████████| 873/873 [13:59<00:00,  1.04it/s, Processing=s (9).JPG]\n"
     ]
    },
    {
     "name": "stdout",
     "output_type": "stream",
     "text": [
      "Saved 873 image(s) into: /kaggle/working/data/fold4/train\n",
      "Saved 873 image(s) into: /kaggle/working/data_msr/fold4/train\n",
      "Found 218 image(s) in dataframe.\n"
     ]
    },
    {
     "name": "stderr",
     "output_type": "stream",
     "text": [
      "100%|██████████| 218/218 [03:28<00:00,  1.05it/s, Processing=s (55).JPG]\n"
     ]
    },
    {
     "name": "stdout",
     "output_type": "stream",
     "text": [
      "Saved 218 image(s) into: /kaggle/working/data/fold4/test\n",
      "Saved 218 image(s) into: /kaggle/working/data_msr/fold4/test\n",
      "\n",
      "Augmentation of train images...\n",
      "Found 352 images belonging to 1 classes.\n"
     ]
    },
    {
     "name": "stderr",
     "output_type": "stream",
     "text": [
      "100%|██████████| 2148/2148 [00:51<00:00, 41.81it/s]\n"
     ]
    },
    {
     "name": "stdout",
     "output_type": "stream",
     "text": [
      "Saved 2152 image(s) into: /kaggle/working/data/fold4/train/Disease Free\n",
      "Found 391 images belonging to 1 classes.\n"
     ]
    },
    {
     "name": "stderr",
     "output_type": "stream",
     "text": [
      "100%|██████████| 2109/2109 [00:50<00:00, 41.64it/s]\n"
     ]
    },
    {
     "name": "stdout",
     "output_type": "stream",
     "text": [
      "Saved 2115 image(s) into: /kaggle/working/data/fold4/train/Leaf Rust\n",
      "Found 130 images belonging to 1 classes.\n"
     ]
    },
    {
     "name": "stderr",
     "output_type": "stream",
     "text": [
      "100%|██████████| 2371/2371 [00:53<00:00, 44.07it/s]\n"
     ]
    },
    {
     "name": "stdout",
     "output_type": "stream",
     "text": [
      "Saved 2372 image(s) into: /kaggle/working/data/fold4/train/Leaf Spot\n",
      "Augmentation complete. Generated total 6639 image(s).\n",
      "Augmentation of MSR train images...\n",
      "Found 352 images belonging to 1 classes.\n"
     ]
    },
    {
     "name": "stderr",
     "output_type": "stream",
     "text": [
      "100%|██████████| 2148/2148 [00:56<00:00, 37.80it/s]\n"
     ]
    },
    {
     "name": "stdout",
     "output_type": "stream",
     "text": [
      "Saved 2152 image(s) into: /kaggle/working/data_msr/fold4/train/Disease Free\n",
      "Found 391 images belonging to 1 classes.\n"
     ]
    },
    {
     "name": "stderr",
     "output_type": "stream",
     "text": [
      "100%|██████████| 2109/2109 [00:46<00:00, 45.48it/s]\n"
     ]
    },
    {
     "name": "stdout",
     "output_type": "stream",
     "text": [
      "Saved 2115 image(s) into: /kaggle/working/data_msr/fold4/train/Leaf Rust\n",
      "Found 130 images belonging to 1 classes.\n"
     ]
    },
    {
     "name": "stderr",
     "output_type": "stream",
     "text": [
      "100%|██████████| 2371/2371 [00:51<00:00, 45.87it/s]\n"
     ]
    },
    {
     "name": "stdout",
     "output_type": "stream",
     "text": [
      "Saved 2372 image(s) into: /kaggle/working/data_msr/fold4/train/Leaf Spot\n",
      "Augmentation complete. Generated total 6639 image(s).\n",
      "\n",
      "Archiving...\n",
      "Fold #5:\n",
      "\n",
      "Train distribution:\n",
      "label\n",
      "Leaf Rust       392\n",
      "Disease Free    352\n",
      "Leaf Spot       129\n",
      "Name: count, dtype: int64\n",
      "\n",
      "Test distribution:\n",
      "label\n",
      "Leaf Rust       97\n",
      "Disease Free    88\n",
      "Leaf Spot       33\n",
      "Name: count, dtype: int64\n",
      "\n",
      "Saving train & test images...\n",
      "Found 873 image(s) in dataframe.\n"
     ]
    },
    {
     "name": "stderr",
     "output_type": "stream",
     "text": [
      "100%|██████████| 873/873 [14:26<00:00,  1.01it/s, Processing=s (9).JPG]\n"
     ]
    },
    {
     "name": "stdout",
     "output_type": "stream",
     "text": [
      "Saved 873 image(s) into: /kaggle/working/data/fold5/train\n",
      "Saved 873 image(s) into: /kaggle/working/data_msr/fold5/train\n",
      "Found 218 image(s) in dataframe.\n"
     ]
    },
    {
     "name": "stderr",
     "output_type": "stream",
     "text": [
      "100%|██████████| 218/218 [03:43<00:00,  1.02s/it, Processing=s (8).JPG]\n"
     ]
    },
    {
     "name": "stdout",
     "output_type": "stream",
     "text": [
      "Saved 218 image(s) into: /kaggle/working/data/fold5/test\n",
      "Saved 218 image(s) into: /kaggle/working/data_msr/fold5/test\n",
      "\n",
      "Augmentation of train images...\n",
      "Found 352 images belonging to 1 classes.\n"
     ]
    },
    {
     "name": "stderr",
     "output_type": "stream",
     "text": [
      "100%|██████████| 2148/2148 [00:51<00:00, 41.96it/s]\n"
     ]
    },
    {
     "name": "stdout",
     "output_type": "stream",
     "text": [
      "Saved 2152 image(s) into: /kaggle/working/data/fold5/train/Disease Free\n",
      "Found 392 images belonging to 1 classes.\n"
     ]
    },
    {
     "name": "stderr",
     "output_type": "stream",
     "text": [
      "100%|██████████| 2109/2109 [00:50<00:00, 41.71it/s]"
     ]
    },
    {
     "name": "stdout",
     "output_type": "stream",
     "text": [
      "Saved 2112 image(s) into: /kaggle/working/data/fold5/train/Leaf Rust\n",
      "Found 129 images belonging to 1 classes.\n"
     ]
    },
    {
     "name": "stderr",
     "output_type": "stream",
     "text": [
      "\n",
      "100%|██████████| 2371/2371 [00:53<00:00, 43.99it/s]\n"
     ]
    },
    {
     "name": "stdout",
     "output_type": "stream",
     "text": [
      "Saved 2378 image(s) into: /kaggle/working/data/fold5/train/Leaf Spot\n",
      "Augmentation complete. Generated total 6642 image(s).\n",
      "Augmentation of MSR train images...\n",
      "Found 352 images belonging to 1 classes.\n"
     ]
    },
    {
     "name": "stderr",
     "output_type": "stream",
     "text": [
      "100%|██████████| 2148/2148 [00:49<00:00, 43.06it/s]\n"
     ]
    },
    {
     "name": "stdout",
     "output_type": "stream",
     "text": [
      "Saved 2152 image(s) into: /kaggle/working/data_msr/fold5/train/Disease Free\n",
      "Found 392 images belonging to 1 classes.\n"
     ]
    },
    {
     "name": "stderr",
     "output_type": "stream",
     "text": [
      "100%|██████████| 2109/2109 [00:46<00:00, 45.60it/s]\n"
     ]
    },
    {
     "name": "stdout",
     "output_type": "stream",
     "text": [
      "Saved 2112 image(s) into: /kaggle/working/data_msr/fold5/train/Leaf Rust\n",
      "Found 129 images belonging to 1 classes.\n"
     ]
    },
    {
     "name": "stderr",
     "output_type": "stream",
     "text": [
      "100%|██████████| 2371/2371 [00:51<00:00, 45.68it/s]\n"
     ]
    },
    {
     "name": "stdout",
     "output_type": "stream",
     "text": [
      "Saved 2378 image(s) into: /kaggle/working/data_msr/fold5/train/Leaf Spot\n",
      "Augmentation complete. Generated total 6642 image(s).\n",
      "\n",
      "Archiving...\n"
     ]
    }
   ],
   "source": [
    "## Generate folds & save patches\n",
    "\n",
    "# Initialize StratifiedKFold\n",
    "kf = StratifiedKFold(n_splits=5, shuffle=True, random_state=1234)\n",
    "\n",
    "# Create folds\n",
    "for fold, (train_idx, test_idx) in enumerate(kf.split(df, df['label'])):\n",
    "    \n",
    "    print(f'Fold #{fold+1}:')\n",
    "    _fold_str = f'fold{fold+1}'\n",
    "    \n",
    "    train_df = df.iloc[train_idx]\n",
    "    test_df = df.iloc[test_idx]\n",
    "\n",
    "    print('\\nTrain distribution:')\n",
    "    print(train_df['label'].value_counts())\n",
    "    print('\\nTest distribution:')\n",
    "    print(test_df['label'].value_counts())\n",
    "    print('')\n",
    "    \n",
    "    print('Saving train & test images...')\n",
    "    preprocess_and_save(train_df, to_dir=path.join(NEW_DATA_DIR, _fold_str, 'train'), \n",
    "                        to_msr_dir=path.join(MSR_DATA_DIR, _fold_str, 'train'))\n",
    "    preprocess_and_save(test_df, to_dir=path.join(NEW_DATA_DIR, _fold_str, 'test'), \n",
    "                        to_msr_dir=path.join(MSR_DATA_DIR, _fold_str, 'test'))\n",
    "    print('')\n",
    "    \n",
    "    print('Augmentation of train images...')\n",
    "    augment_images(DISPLAY_LABELS, _train_dir=path.join(NEW_DATA_DIR, _fold_str, 'train'), _AUG_IMG_COUNT=[2148, 2109, 2371])\n",
    "    print('Augmentation of MSR train images...')\n",
    "    augment_images(DISPLAY_LABELS, _train_dir=path.join(MSR_DATA_DIR, _fold_str, 'train'), _AUG_IMG_COUNT=[2148, 2109, 2371])\n",
    "    print('')\n",
    "    \n",
    "    # zipping & cleaning\n",
    "    print('Archiving...')\n",
    "    shutil.make_archive(path.join(NEW_DATA_DIR, _fold_str), 'zip', path.join(NEW_DATA_DIR, _fold_str))\n",
    "    shutil.rmtree(path.join(NEW_DATA_DIR, _fold_str))\n",
    "    shutil.make_archive(path.join(MSR_DATA_DIR, _fold_str), 'zip', path.join(MSR_DATA_DIR, _fold_str))\n",
    "    shutil.rmtree(path.join(MSR_DATA_DIR, _fold_str))\n",
    "    pass\n"
   ]
  }
 ],
 "metadata": {
  "kaggle": {
   "accelerator": "none",
   "dataSources": [
    {
     "datasetId": 2938328,
     "sourceId": 5060693,
     "sourceType": "datasetVersion"
    }
   ],
   "dockerImageVersionId": 30804,
   "isGpuEnabled": false,
   "isInternetEnabled": true,
   "language": "python",
   "sourceType": "notebook"
  },
  "kernelspec": {
   "display_name": "Python 3",
   "language": "python",
   "name": "python3"
  },
  "language_info": {
   "codemirror_mode": {
    "name": "ipython",
    "version": 3
   },
   "file_extension": ".py",
   "mimetype": "text/x-python",
   "name": "python",
   "nbconvert_exporter": "python",
   "pygments_lexer": "ipython3",
   "version": "3.10.14"
  },
  "papermill": {
   "default_parameters": {},
   "duration": 7232.321072,
   "end_time": "2024-12-09T15:34:26.440119",
   "environment_variables": {},
   "exception": null,
   "input_path": "__notebook__.ipynb",
   "output_path": "__notebook__.ipynb",
   "parameters": {},
   "start_time": "2024-12-09T13:33:54.119047",
   "version": "2.6.0"
  }
 },
 "nbformat": 4,
 "nbformat_minor": 5
}
